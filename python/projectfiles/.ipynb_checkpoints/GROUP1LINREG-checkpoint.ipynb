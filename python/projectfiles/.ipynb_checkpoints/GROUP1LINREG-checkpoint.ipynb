{
 "cells": [
  {
   "cell_type": "markdown",
   "id": "b575db30",
   "metadata": {},
   "source": [
    "<h2 style=\"color:blue\" align=\"center\"> WTF23 DATA SCIENCE AND ARTIFICAIL INTELLIGENCE </h2>\n",
    "<h2 style=\"color:blue\" align=\"center\"> GROUP C SUBGROUP 1 </h2>\n",
    "<h2 style=\"color:blue\" align=\"center\"> CLASSWORK ON LINEAR REGRESSION </h2>"
   ]
  },
  {
   "cell_type": "raw",
   "id": "7f12abff",
   "metadata": {},
   "source": [
    "<h3 style=\"color:red\" align=\"justify\">  QUESTION </h3>\n",
    "<h4 style=\"color:green\" align=\"justify\"> Predict canada's per capita income in year 2020. Using this build a regression model and predict the per capita income for canadian citizens in year 2020 </p> </h4>"
   ]
  },
  {
   "cell_type": "markdown",
   "id": "64fba114",
   "metadata": {},
   "source": [
    "<h5 style=\"color:blue\" align=\"center\">Import libraries </h5>"
   ]
  },
  {
   "cell_type": "code",
   "execution_count": 1,
   "id": "6cc92ada",
   "metadata": {},
   "outputs": [],
   "source": [
    "# Basic libraries   \n",
    "import pandas as pd  \n",
    "import numpy as np  \n",
    "import warnings  \n",
    "  \n",
    "# For building the model  \n",
    "from sklearn import linear_model  \n",
    "  \n",
    "# For data visualization  \n",
    "import seaborn as sns  \n",
    "import matplotlib.pyplot as plt  \n",
    "from mpl_toolkits.mplot3d import Axes3D  \n",
    "%matplotlib inline  "
   ]
  },
  {
   "cell_type": "markdown",
   "id": "a9857fb8",
   "metadata": {},
   "source": [
    "<h5 style=\"color:blue\" align=\"center\">Read data and perform EDA and Data cleaning </h5>"
   ]
  },
  {
   "cell_type": "code",
   "execution_count": 2,
   "id": "7157d9f3",
   "metadata": {},
   "outputs": [
    {
     "data": {
      "text/html": [
       "<div>\n",
       "<style scoped>\n",
       "    .dataframe tbody tr th:only-of-type {\n",
       "        vertical-align: middle;\n",
       "    }\n",
       "\n",
       "    .dataframe tbody tr th {\n",
       "        vertical-align: top;\n",
       "    }\n",
       "\n",
       "    .dataframe thead th {\n",
       "        text-align: right;\n",
       "    }\n",
       "</style>\n",
       "<table border=\"1\" class=\"dataframe\">\n",
       "  <thead>\n",
       "    <tr style=\"text-align: right;\">\n",
       "      <th></th>\n",
       "      <th>year</th>\n",
       "      <th>per capita income (US$)</th>\n",
       "    </tr>\n",
       "  </thead>\n",
       "  <tbody>\n",
       "    <tr>\n",
       "      <th>0</th>\n",
       "      <td>1970</td>\n",
       "      <td>3399.299037</td>\n",
       "    </tr>\n",
       "    <tr>\n",
       "      <th>1</th>\n",
       "      <td>1971</td>\n",
       "      <td>3768.297935</td>\n",
       "    </tr>\n",
       "    <tr>\n",
       "      <th>2</th>\n",
       "      <td>1972</td>\n",
       "      <td>4251.175484</td>\n",
       "    </tr>\n",
       "    <tr>\n",
       "      <th>3</th>\n",
       "      <td>1973</td>\n",
       "      <td>4804.463248</td>\n",
       "    </tr>\n",
       "    <tr>\n",
       "      <th>4</th>\n",
       "      <td>1974</td>\n",
       "      <td>5576.514583</td>\n",
       "    </tr>\n",
       "  </tbody>\n",
       "</table>\n",
       "</div>"
      ],
      "text/plain": [
       "   year  per capita income (US$)\n",
       "0  1970              3399.299037\n",
       "1  1971              3768.297935\n",
       "2  1972              4251.175484\n",
       "3  1973              4804.463248\n",
       "4  1974              5576.514583"
      ]
     },
     "execution_count": 2,
     "metadata": {},
     "output_type": "execute_result"
    }
   ],
   "source": [
    "df_canada = pd.read_csv('canada_per_capita_income.csv')\n",
    "df_canada.head()"
   ]
  },
  {
   "cell_type": "code",
   "execution_count": 3,
   "id": "40a65ca1",
   "metadata": {},
   "outputs": [
    {
     "data": {
      "text/plain": [
       "Index(['year', 'per capita income (US$)'], dtype='object')"
      ]
     },
     "execution_count": 3,
     "metadata": {},
     "output_type": "execute_result"
    }
   ],
   "source": [
    "df_canada.columns"
   ]
  },
  {
   "cell_type": "markdown",
   "id": "df978d38",
   "metadata": {},
   "source": [
    "<h6 style=\"color:blue\" align=\"justify\">Visualise the data point using scatter plot </h6>"
   ]
  },
  {
   "cell_type": "code",
   "execution_count": 4,
   "id": "2a1131f2",
   "metadata": {},
   "outputs": [
    {
     "data": {
      "text/plain": [
       "<seaborn.axisgrid.PairGrid at 0x21ea60d3850>"
      ]
     },
     "execution_count": 4,
     "metadata": {},
     "output_type": "execute_result"
    },
    {
     "data": {
      "image/png": "[encoded data removed]",
      "text/plain": [
       "<Figure size 288x288 with 6 Axes>"
      ]
     },
     "metadata": {
      "needs_background": "light"
     },
     "output_type": "display_data"
    }
   ],
   "source": [
    "# Visualizing the relationships between features using pair plots  \n",
    "sns.pairplot(data = df_canada, height = 2)  "
   ]
  },
  {
   "cell_type": "code",
   "execution_count": 5,
   "id": "4fe30d74",
   "metadata": {},
   "outputs": [
    {
     "data": {
      "text/plain": [
       "<matplotlib.collections.PathCollection at 0x21eab0bfc10>"
      ]
     },
     "execution_count": 5,
     "metadata": {},
     "output_type": "execute_result"
    },
    {
     "data": {
      "image/png": "[encoded data removed]",
      "text/plain": [
       "<Figure size 432x288 with 1 Axes>"
      ]
     },
     "metadata": {
      "needs_background": "light"
     },
     "output_type": "display_data"
    }
   ],
   "source": [
    "%matplotlib inline\n",
    "plt.xlabel('year')\n",
    "plt.ylabel('per capita income (US$)')\n",
    "plt.scatter(df_canada['year'],df_canada['per capita income (US$)'],color='blue',marker='+')"
   ]
  },
  {
   "cell_type": "markdown",
   "id": "4c530763",
   "metadata": {},
   "source": [
    "<h6 style=\"color:blue\" align=\"justify\">Prepare data frame for analysis </h6>"
   ]
  },
  {
   "cell_type": "code",
   "execution_count": 6,
   "id": "21c02de8",
   "metadata": {},
   "outputs": [
    {
     "data": {
      "text/html": [
       "<div>\n",
       "<style scoped>\n",
       "    .dataframe tbody tr th:only-of-type {\n",
       "        vertical-align: middle;\n",
       "    }\n",
       "\n",
       "    .dataframe tbody tr th {\n",
       "        vertical-align: top;\n",
       "    }\n",
       "\n",
       "    .dataframe thead th {\n",
       "        text-align: right;\n",
       "    }\n",
       "</style>\n",
       "<table border=\"1\" class=\"dataframe\">\n",
       "  <thead>\n",
       "    <tr style=\"text-align: right;\">\n",
       "      <th></th>\n",
       "      <th>year</th>\n",
       "    </tr>\n",
       "  </thead>\n",
       "  <tbody>\n",
       "    <tr>\n",
       "      <th>0</th>\n",
       "      <td>1970</td>\n",
       "    </tr>\n",
       "    <tr>\n",
       "      <th>1</th>\n",
       "      <td>1971</td>\n",
       "    </tr>\n",
       "    <tr>\n",
       "      <th>2</th>\n",
       "      <td>1972</td>\n",
       "    </tr>\n",
       "    <tr>\n",
       "      <th>3</th>\n",
       "      <td>1973</td>\n",
       "    </tr>\n",
       "    <tr>\n",
       "      <th>4</th>\n",
       "      <td>1974</td>\n",
       "    </tr>\n",
       "  </tbody>\n",
       "</table>\n",
       "</div>"
      ],
      "text/plain": [
       "   year\n",
       "0  1970\n",
       "1  1971\n",
       "2  1972\n",
       "3  1973\n",
       "4  1974"
      ]
     },
     "execution_count": 6,
     "metadata": {},
     "output_type": "execute_result"
    }
   ],
   "source": [
    "new_df = df_canada.drop('per capita income (US$)',axis='columns')\n",
    "new_df.head()"
   ]
  },
  {
   "cell_type": "code",
   "execution_count": 7,
   "id": "c5b283c4",
   "metadata": {},
   "outputs": [
    {
     "data": {
      "text/plain": [
       "0    3399.299037\n",
       "1    3768.297935\n",
       "2    4251.175484\n",
       "3    4804.463248\n",
       "4    5576.514583\n",
       "Name: per capita income (US$), dtype: float64"
      ]
     },
     "execution_count": 7,
     "metadata": {},
     "output_type": "execute_result"
    }
   ],
   "source": [
    "per_capita_income = df_canada['per capita income (US$)']\n",
    "per_capita_income.head()"
   ]
  },
  {
   "cell_type": "markdown",
   "id": "f930489a",
   "metadata": {},
   "source": [
    "<h6 style=\"color:blue\" align=\"justify\">Perform regression analysis model fit</h6>"
   ]
  },
  {
   "cell_type": "code",
   "execution_count": 8,
   "id": "e4c086fc",
   "metadata": {},
   "outputs": [
    {
     "name": "stdout",
     "output_type": "stream",
     "text": [
      "LinearRegression()\n"
     ]
    }
   ],
   "source": [
    "reg = linear_model.LinearRegression()\n",
    "reg.fit(new_df,per_capita_income)\n",
    "print(reg.fit(new_df,per_capita_income))"
   ]
  },
  {
   "cell_type": "markdown",
   "id": "b443ab5a",
   "metadata": {},
   "source": [
    "<h3 style=\"color:blue\" align=\"center\"> predict the per capital income for 2020 </h3> "
   ]
  },
  {
   "cell_type": "code",
   "execution_count": 9,
   "id": "71d40d0e",
   "metadata": {},
   "outputs": [
    {
     "name": "stderr",
     "output_type": "stream",
     "text": [
      "C:\\Users\\HP\\anaconda3\\lib\\site-packages\\sklearn\\base.py:450: UserWarning: X does not have valid feature names, but LinearRegression was fitted with feature names\n",
      "  warnings.warn(\n"
     ]
    },
    {
     "data": {
      "text/plain": [
       "array([41288.69409442])"
      ]
     },
     "execution_count": 9,
     "metadata": {},
     "output_type": "execute_result"
    }
   ],
   "source": [
    "reg.predict([[2020]])"
   ]
  },
  {
   "cell_type": "code",
   "execution_count": 10,
   "id": "58d14ee3",
   "metadata": {},
   "outputs": [
    {
     "data": {
      "text/plain": [
       "array([828.46507522])"
      ]
     },
     "execution_count": 10,
     "metadata": {},
     "output_type": "execute_result"
    }
   ],
   "source": [
    "reg.coef_"
   ]
  },
  {
   "cell_type": "code",
   "execution_count": 11,
   "id": "aa8af43f",
   "metadata": {},
   "outputs": [
    {
     "data": {
      "text/plain": [
       "-1632210.7578554575"
      ]
     },
     "execution_count": 11,
     "metadata": {},
     "output_type": "execute_result"
    }
   ],
   "source": [
    "reg.intercept_"
   ]
  },
  {
   "cell_type": "markdown",
   "id": "393faa7a",
   "metadata": {},
   "source": [
    "<h6 style=\"color:blue\" align=\"justify\">From the above intercept result (which is negative) we will say the regression model is a negative regression model</h6>"
   ]
  },
  {
   "cell_type": "markdown",
   "id": "1b66f412",
   "metadata": {},
   "source": [
    "<h6 style=\"color:blue\" align=\"justify\">TY = m * X + b (m is coefficient and b is intercept)  </h6>"
   ]
  },
  {
   "cell_type": "code",
   "execution_count": 12,
   "id": "c10feca3",
   "metadata": {},
   "outputs": [
    {
     "data": {
      "text/plain": [
       "41288.694088942604"
      ]
     },
     "execution_count": 12,
     "metadata": {},
     "output_type": "execute_result"
    }
   ],
   "source": [
    "Y= 828.46507522*2020+(-1632210.7578554575)\n",
    "Y"
   ]
  },
  {
   "cell_type": "code",
   "execution_count": 13,
   "id": "15f46fdd",
   "metadata": {},
   "outputs": [
    {
     "ename": "SyntaxError",
     "evalue": "invalid syntax (1081078685.py, line 1)",
     "output_type": "error",
     "traceback": [
      "\u001b[1;36m  Input \u001b[1;32mIn [13]\u001b[1;36m\u001b[0m\n\u001b[1;33m    <h3 style=\"color:red\" align=\"center\"> CONCLUSION </h3>\u001b[0m\n\u001b[1;37m    ^\u001b[0m\n\u001b[1;31mSyntaxError\u001b[0m\u001b[1;31m:\u001b[0m invalid syntax\n"
     ]
    }
   ],
   "source": [
    "<h3 style=\"color:red\" align=\"center\"> CONCLUSION </h3>\n",
    "\n",
    "Our models both the predictive linear regression model and the normal linear regression model shows same result. "
   ]
  },
  {
   "cell_type": "markdown",
   "id": "335f0a9a",
   "metadata": {},
   "source": [
    "<h3 style=\"color:black\" align=\"center\"> CONTRIBUTORS </h3>\n",
    "\n",
    "[Margaret Oluwadare](margaret.oluwadare@womentechsters.org)\n",
    "\n",
    "[Loveth Osuagwu](loveth.osuagwu@womentechsters.org)\n",
    "\n",
    "[Oluchi Okoro (Oluchi Oluchi)](oluchi.oluchi@womentechsters.org)\n",
    "\n",
    "[Monsurat Onabajo](monsurat.onabajo@womentechsters.org)\n",
    "\n",
    "[Mariam Anishere](mariam.anishere@womentechsters.org)\n",
    "\n",
    "[Olubusayo Solola](olubusayo.solola@womentechsters.org)\n",
    "\n",
    "[Olayemi Ibiloye](olayemi.ibiloye@womentechsters.org)\n",
    "\n",
    "[Maryann Amaefula](maryann.amaefula@womentechsters.org)\n",
    "\n",
    "[Olayemi Oloyede](olayemi.oloyede@womentechsters.org)\n",
    "\n",
    "[Oluwadunsin Olajide](oluwadunsin.olajide@womentechsters.org)\n"
   ]
  },
  {
   "cell_type": "code",
   "execution_count": null,
   "id": "040e50ac",
   "metadata": {},
   "outputs": [],
   "source": []
  }
 ],
 "metadata": {
  "kernelspec": {
   "display_name": "Python 3 (ipykernel)",
   "language": "python",
   "name": "python3"
  },
  "language_info": {
   "codemirror_mode": {
    "name": "ipython",
    "version": 3
   },
   "file_extension": ".py",
   "mimetype": "text/x-python",
   "name": "python",
   "nbconvert_exporter": "python",
   "pygments_lexer": "ipython3",
   "version": "3.9.12"
  }
 },
 "nbformat": 4,
 "nbformat_minor": 5
}
