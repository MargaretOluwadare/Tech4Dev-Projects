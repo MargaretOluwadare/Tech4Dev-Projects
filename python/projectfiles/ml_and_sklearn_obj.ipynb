{
 "cells": [
  {
   "cell_type": "markdown",
   "id": "a451b1e1",
   "metadata": {},
   "source": [
    "# ONABAJO MONSURAT\n",
    "GROUP 1"
   ]
  },
  {
   "cell_type": "markdown",
   "id": "fe75dd4b",
   "metadata": {},
   "source": [
    "## MACHINE LEARNING\n",
    "\n",
    "Machine learning is the process of asking computers to do something without being explicitlly told how to do it.\n",
    "There are four types of machine learning\n",
    "\n",
    "1). Supervised Learning: This is when a machine is trained on a data that has feature variables and target vector. they can be further classified into two\n",
    "\n",
    "a). Classification: When the machine is trained on categorical data. e.g creating a model that predict if it will rain or not. it is also divided into two, \n",
    "\n",
    "i). Binary classification\n",
    "\n",
    "ii). Multiclass classification\n",
    "\n",
    "b). Regression: When the machine is trained on numerical data. e.gcreating a model that predict house prices.\n",
    "\n",
    "2). Unsupervised Learning: This is when a machine is trained on only feature variables, that is we do not have a particular target vector we want to predict. example includes Clustering\n",
    "\n",
    "3). Transfer Learning: This is when machine is trained on an existing model\n",
    "\n",
    "4). Reinforcement Learning: This is when a machine is trained by itself, that is rewarding it when it is good and punishing it when it is bad"
   ]
  },
  {
   "cell_type": "markdown",
   "id": "ad69196c",
   "metadata": {},
   "source": [
    "## SCIKIT LEARN\n",
    "\n",
    "It is a python machine learning library. it helps us build machine learning models to make predictions or learn patterns within a data. It also help implement tools to evaluate these predictions to know if they are good or bad.\n",
    "\n",
    "Reasons for Scikit Learn\n",
    "\n",
    "1). It has many inbuilt machine learning models\n",
    "\n",
    "2). It has method to evaluate your machine learning model\n",
    "\n",
    "3). It has many well designed API "
   ]
  },
  {
   "cell_type": "code",
   "execution_count": null,
   "id": "850d97cc",
   "metadata": {},
   "outputs": [],
   "source": []
  }
 ],
 "metadata": {
  "kernelspec": {
   "display_name": "Python 3 (ipykernel)",
   "language": "python",
   "name": "python3"
  },
  "language_info": {
   "codemirror_mode": {
    "name": "ipython",
    "version": 3
   },
   "file_extension": ".py",
   "mimetype": "text/x-python",
   "name": "python",
   "nbconvert_exporter": "python",
   "pygments_lexer": "ipython3",
   "version": "3.9.12"
  }
 },
 "nbformat": 4,
 "nbformat_minor": 5
}
