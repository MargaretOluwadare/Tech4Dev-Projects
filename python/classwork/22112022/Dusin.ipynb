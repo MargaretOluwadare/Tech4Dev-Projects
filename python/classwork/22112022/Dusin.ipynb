{
 "cells": [
  {
   "cell_type": "markdown",
   "metadata": {
    "id": "RG4UeXo8jjAu"
   },
   "source": [
    "<h2 style='color:blue' align=\"center\">Logistic Regression: Multiclass Classification</h2>"
   ]
  },
  {
   "cell_type": "markdown",
   "metadata": {
    "id": "d41Xn0VTjjBX"
   },
   "source": [
    "In this tutorial we will see how to use logistic regression for multiclass classification. "
   ]
  },
  {
   "cell_type": "code",
   "execution_count": 6,
   "metadata": {
    "executionInfo": {
     "elapsed": 2018,
     "status": "ok",
     "timestamp": 1669111806916,
     "user": {
      "displayName": "Kosy Ashara",
      "userId": "08844108681218484423"
     },
     "user_tz": -60
    },
    "id": "qcmTcQC0jjBj"
   },
   "outputs": [],
   "source": [
    "from sklearn.datasets import load_iris\n",
    "%matplotlib inline\n",
    "import matplotlib.pyplot as plt\n",
    "data_df = load_iris()"
   ]
  },
  {
   "cell_type": "code",
   "execution_count": 7,
   "metadata": {},
   "outputs": [
    {
     "data": {
      "text/plain": [
       "['DESCR',\n",
       " 'data',\n",
       " 'feature_names',\n",
       " 'filename',\n",
       " 'frame',\n",
       " 'target',\n",
       " 'target_names']"
      ]
     },
     "execution_count": 7,
     "metadata": {},
     "output_type": "execute_result"
    }
   ],
   "source": [
    "dir(data_df)"
   ]
  },
  {
   "cell_type": "code",
   "execution_count": 20,
   "metadata": {
    "colab": {
     "base_uri": "https://localhost:8080/",
     "height": 1000
    },
    "executionInfo": {
     "elapsed": 1474,
     "status": "ok",
     "timestamp": 1669111808369,
     "user": {
      "displayName": "Kosy Ashara",
      "userId": "08844108681218484423"
     },
     "user_tz": -60
    },
    "id": "t81RdjzojjCN",
    "outputId": "78eee0fc-37e2-4113-e851-ad8402e88d7c"
   },
   "outputs": [
    {
     "data": {
      "text/plain": [
       "'petal width (cm)'"
      ]
     },
     "execution_count": 20,
     "metadata": {},
     "output_type": "execute_result"
    }
   ],
   "source": [
    "data_df.feature_names[3]\n"
   ]
  },
  {
   "cell_type": "code",
   "execution_count": 22,
   "metadata": {
    "colab": {
     "base_uri": "https://localhost:8080/"
    },
    "executionInfo": {
     "elapsed": 148,
     "status": "ok",
     "timestamp": 1669111808421,
     "user": {
      "displayName": "Kosy Ashara",
      "userId": "08844108681218484423"
     },
     "user_tz": -60
    },
    "id": "V7YwZQiHjjK8",
    "outputId": "597d9965-0c6d-4696-e1ce-feb7da82b13c"
   },
   "outputs": [
    {
     "data": {
      "text/plain": [
       "'virginica'"
      ]
     },
     "execution_count": 22,
     "metadata": {},
     "output_type": "execute_result"
    }
   ],
   "source": [
    "data_df.target_names[2]"
   ]
  },
  {
   "cell_type": "code",
   "execution_count": 23,
   "metadata": {
    "colab": {
     "base_uri": "https://localhost:8080/"
    },
    "executionInfo": {
     "elapsed": 137,
     "status": "ok",
     "timestamp": 1669111808423,
     "user": {
      "displayName": "Kosy Ashara",
      "userId": "08844108681218484423"
     },
     "user_tz": -60
    },
    "id": "_QXIP2bzjjLn",
    "outputId": "6f78a1ed-d71b-438f-e24a-6c0c15b7cc93"
   },
   "outputs": [
    {
     "data": {
      "text/plain": [
       "array([4.6, 3.1, 1.5, 0.2])"
      ]
     },
     "execution_count": 23,
     "metadata": {},
     "output_type": "execute_result"
    }
   ],
   "source": [
    "data_df.data[3]"
   ]
  },
  {
   "cell_type": "code",
   "execution_count": null,
   "metadata": {
    "colab": {
     "base_uri": "https://localhost:8080/",
     "height": 36
    },
    "executionInfo": {
     "elapsed": 132,
     "status": "ok",
     "timestamp": 1669111808426,
     "user": {
      "displayName": "Kosy Ashara",
      "userId": "08844108681218484423"
     },
     "user_tz": -60
    },
    "id": "AjYLPHrRshJk",
    "outputId": "96027006-e869-47ba-b321-2ccf8888d17e"
   },
   "outputs": [],
   "source": []
  },
  {
   "cell_type": "code",
   "execution_count": null,
   "metadata": {
    "colab": {
     "base_uri": "https://localhost:8080/"
    },
    "executionInfo": {
     "elapsed": 130,
     "status": "ok",
     "timestamp": 1669111808430,
     "user": {
      "displayName": "Kosy Ashara",
      "userId": "08844108681218484423"
     },
     "user_tz": -60
    },
    "id": "0HXmMy7MssJ8",
    "outputId": "f59a93e5-dabf-418a-85b6-a85e3090d43c"
   },
   "outputs": [],
   "source": []
  },
  {
   "cell_type": "code",
   "execution_count": null,
   "metadata": {
    "colab": {
     "base_uri": "https://localhost:8080/",
     "height": 292
    },
    "executionInfo": {
     "elapsed": 1686,
     "status": "ok",
     "timestamp": 1669111810003,
     "user": {
      "displayName": "Kosy Ashara",
      "userId": "08844108681218484423"
     },
     "user_tz": -60
    },
    "id": "822FWJnovMvR",
    "outputId": "513e2e69-147d-4949-c63e-92ae12af71fd"
   },
   "outputs": [],
   "source": [
    " "
   ]
  },
  {
   "cell_type": "markdown",
   "metadata": {
    "id": "kcB8JYsGjjL6"
   },
   "source": [
    "<h4 style='color:purple'>Create and train logistic regression model</h4>"
   ]
  },
  {
   "cell_type": "code",
   "execution_count": 14,
   "metadata": {
    "executionInfo": {
     "elapsed": 10,
     "status": "ok",
     "timestamp": 1669111819318,
     "user": {
      "displayName": "Kosy Ashara",
      "userId": "08844108681218484423"
     },
     "user_tz": -60
    },
    "id": "KWE5Kf1djjMK"
   },
   "outputs": [],
   "source": [
    "from sklearn.linear_model import LogisticRegression\n",
    "model = LogisticRegression()"
   ]
  },
  {
   "cell_type": "code",
   "execution_count": 15,
   "metadata": {
    "executionInfo": {
     "elapsed": 11,
     "status": "ok",
     "timestamp": 1669111821813,
     "user": {
      "displayName": "Kosy Ashara",
      "userId": "08844108681218484423"
     },
     "user_tz": -60
    },
    "id": "4G8fR7p5jjMn"
   },
   "outputs": [],
   "source": [
    "from sklearn.model_selection import train_test_split"
   ]
  },
  {
   "cell_type": "code",
   "execution_count": 25,
   "metadata": {
    "executionInfo": {
     "elapsed": 11,
     "status": "ok",
     "timestamp": 1669111825415,
     "user": {
      "displayName": "Kosy Ashara",
      "userId": "08844108681218484423"
     },
     "user_tz": -60
    },
    "id": "cjoYDlSMjjM1"
   },
   "outputs": [],
   "source": [
    "X_train, X_test, y_train, y_test = train_test_split(data_df.data,data_df.target, test_size=0.2)"
   ]
  },
  {
   "cell_type": "code",
   "execution_count": 26,
   "metadata": {
    "colab": {
     "base_uri": "https://localhost:8080/"
    },
    "executionInfo": {
     "elapsed": 1465,
     "status": "ok",
     "timestamp": 1669111829221,
     "user": {
      "displayName": "Kosy Ashara",
      "userId": "08844108681218484423"
     },
     "user_tz": -60
    },
    "id": "F5BdXw9IjjM5",
    "outputId": "62c80b2c-bb02-4e9e-9203-20560e69d6f6"
   },
   "outputs": [
    {
     "name": "stderr",
     "output_type": "stream",
     "text": [
      "C:\\Users\\User\\anaconda3\\lib\\site-packages\\sklearn\\linear_model\\_logistic.py:763: ConvergenceWarning: lbfgs failed to converge (status=1):\n",
      "STOP: TOTAL NO. of ITERATIONS REACHED LIMIT.\n",
      "\n",
      "Increase the number of iterations (max_iter) or scale the data as shown in:\n",
      "    https://scikit-learn.org/stable/modules/preprocessing.html\n",
      "Please also refer to the documentation for alternative solver options:\n",
      "    https://scikit-learn.org/stable/modules/linear_model.html#logistic-regression\n",
      "  n_iter_i = _check_optimize_result(\n"
     ]
    },
    {
     "data": {
      "text/plain": [
       "LogisticRegression()"
      ]
     },
     "execution_count": 26,
     "metadata": {},
     "output_type": "execute_result"
    }
   ],
   "source": [
    "model.fit(X_train, y_train)"
   ]
  },
  {
   "cell_type": "markdown",
   "metadata": {
    "id": "SUaiweHtjjM9"
   },
   "source": [
    "<h4 style='color:purple'>Measure accuracy of our model</h4>"
   ]
  },
  {
   "cell_type": "code",
   "execution_count": 27,
   "metadata": {
    "colab": {
     "base_uri": "https://localhost:8080/"
    },
    "executionInfo": {
     "elapsed": 702,
     "status": "ok",
     "timestamp": 1669111940128,
     "user": {
      "displayName": "Kosy Ashara",
      "userId": "08844108681218484423"
     },
     "user_tz": -60
    },
    "id": "3-dVgIfdjjQI",
    "outputId": "16850578-ad41-4d9f-fa0a-31f0c4f47674"
   },
   "outputs": [
    {
     "data": {
      "text/plain": [
       "1.0"
      ]
     },
     "execution_count": 27,
     "metadata": {},
     "output_type": "execute_result"
    }
   ],
   "source": [
    "model.score(X_test, y_test)"
   ]
  },
  {
   "cell_type": "code",
   "execution_count": 28,
   "metadata": {
    "colab": {
     "base_uri": "https://localhost:8080/"
    },
    "executionInfo": {
     "elapsed": 1190,
     "status": "ok",
     "timestamp": 1669111982552,
     "user": {
      "displayName": "Kosy Ashara",
      "userId": "08844108681218484423"
     },
     "user_tz": -60
    },
    "id": "95ldqOGMjjRL",
    "outputId": "8f1ae2bb-8ded-4df7-c011-b7d734e1c865"
   },
   "outputs": [
    {
     "data": {
      "text/plain": [
       "array([0, 0, 0, 0, 0])"
      ]
     },
     "execution_count": 28,
     "metadata": {},
     "output_type": "execute_result"
    }
   ],
   "source": [
    "model.predict(data_df.data[0:5])"
   ]
  },
  {
   "cell_type": "markdown",
   "metadata": {
    "id": "_aPneQJvjjRV"
   },
   "source": [
    "<h4 style='color:purple'>Confusion Matrix</h4>"
   ]
  },
  {
   "cell_type": "code",
   "execution_count": 29,
   "metadata": {
    "executionInfo": {
     "elapsed": 1166,
     "status": "ok",
     "timestamp": 1669111990680,
     "user": {
      "displayName": "Kosy Ashara",
      "userId": "08844108681218484423"
     },
     "user_tz": -60
    },
    "id": "Q4IUsSeWjjRa"
   },
   "outputs": [],
   "source": [
    "y_predicted = model.predict(X_test)"
   ]
  },
  {
   "cell_type": "code",
   "execution_count": 30,
   "metadata": {
    "colab": {
     "base_uri": "https://localhost:8080/"
    },
    "executionInfo": {
     "elapsed": 37,
     "status": "ok",
     "timestamp": 1669112015994,
     "user": {
      "displayName": "Kosy Ashara",
      "userId": "08844108681218484423"
     },
     "user_tz": -60
    },
    "id": "4GBiqV2ijjRf",
    "outputId": "a7396e42-ad23-470f-9165-166b0fd13f6e"
   },
   "outputs": [
    {
     "data": {
      "text/plain": [
       "array([[12,  0,  0],\n",
       "       [ 0,  8,  0],\n",
       "       [ 0,  0, 10]], dtype=int64)"
      ]
     },
     "execution_count": 30,
     "metadata": {},
     "output_type": "execute_result"
    }
   ],
   "source": [
    "from sklearn.metrics import confusion_matrix\n",
    "cm = confusion_matrix(y_test, y_predicted)\n",
    "cm"
   ]
  },
  {
   "cell_type": "code",
   "execution_count": 31,
   "metadata": {
    "colab": {
     "base_uri": "https://localhost:8080/",
     "height": 459
    },
    "executionInfo": {
     "elapsed": 1414,
     "status": "ok",
     "timestamp": 1669112070981,
     "user": {
      "displayName": "Kosy Ashara",
      "userId": "08844108681218484423"
     },
     "user_tz": -60
    },
    "id": "yy7cFWkEjjRo",
    "outputId": "7eab0cf9-2c54-4193-c773-01ca6fde5ea7"
   },
   "outputs": [
    {
     "data": {
      "text/plain": [
       "Text(69.0, 0.5, 'Truth')"
      ]
     },
     "execution_count": 31,
     "metadata": {},
     "output_type": "execute_result"
    },
    {
     "data": {
      "image/png": "[encoded data removed]",
      "text/plain": [
       "<Figure size 720x504 with 2 Axes>"
      ]
     },
     "metadata": {
      "needs_background": "light"
     },
     "output_type": "display_data"
    }
   ],
   "source": [
    "import seaborn as sn\n",
    "plt.figure(figsize = (10,7))\n",
    "sn.heatmap(cm, annot=True)\n",
    "plt.xlabel('Predicted')\n",
    "plt.ylabel('Truth')"
   ]
  },
  {
   "cell_type": "markdown",
   "metadata": {
    "id": "ntq6mO_gjjRs"
   },
   "source": [
    "**Exercise**"
   ]
  },
  {
   "cell_type": "markdown",
   "metadata": {
    "id": "SJW-cmgojjRw"
   },
   "source": [
    "Use sklearn.datasets iris flower dataset to train your model using logistic regression. You need to figure out accuracy \n",
    "of your model and use that to predict different samples in your test dataset. In iris dataset there are 150 samples containing following features,\n",
    "\n",
    "1. Sepal Length\n",
    "2. Sepal Width \n",
    "3. Petal Length \n",
    "4. Petal Width\n",
    "\n",
    "Using above 4 features you will clasify a flower in one of the three categories,\n",
    "\n",
    "1. Setosa\n",
    "2. Versicolour\n",
    "3. Virginica"
   ]
  },
  {
   "cell_type": "markdown",
   "metadata": {
    "id": "vUh61MYAjjR2"
   },
   "source": [
    "<img height=300 width=300 src=\"iris_petal_sepal.png\" />"
   ]
  }
 ],
 "metadata": {
  "colab": {
   "provenance": []
  },
  "kernelspec": {
   "display_name": "Python 3 (ipykernel)",
   "language": "python",
   "name": "python3"
  },
  "language_info": {
   "codemirror_mode": {
    "name": "ipython",
    "version": 3
   },
   "file_extension": ".py",
   "mimetype": "text/x-python",
   "name": "python",
   "nbconvert_exporter": "python",
   "pygments_lexer": "ipython3",
   "version": "3.9.12"
  }
 },
 "nbformat": 4,
 "nbformat_minor": 1
}
