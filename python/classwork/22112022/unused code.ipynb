{
 "cells": [
  {
   "cell_type": "code",
   "execution_count": null,
   "id": "d9ecfcc2",
   "metadata": {},
   "outputs": [],
   "source": [
    "from sklearn.tree import DecisionTreeClassifier, plot_tree\n",
    "from sklearn.naive_bayes import GaussianNB\n",
    "from sklearn.discriminant_analysis import LinearDiscriminantAnalysis, QuadraticDiscriminantAnalysis\n",
    "from sklearn.neighbors import KNeighborsClassifier\n",
    "from sklearn.svm import SVC\n",
    "from sklearn.linear_model import LogisticRegression"
   ]
  },
  {
   "cell_type": "code",
   "execution_count": null,
   "id": "1eb2b0b6",
   "metadata": {},
   "outputs": [],
   "source": [
    "X = pd.DataFrame.from_records(data=iris.data, columns=iris.feature_names)\n",
    "X.head()"
   ]
  },
  {
   "cell_type": "code",
   "execution_count": null,
   "id": "7dafe662",
   "metadata": {},
   "outputs": [],
   "source": [
    "from sklearn.model_selection import train_test_split\n",
    "X_train, X_test, y_train, y_test = train_test_split(iris.data, iris.target, test_size=0.2)"
   ]
  },
  {
   "cell_type": "code",
   "execution_count": null,
   "id": "767ba75c",
   "metadata": {},
   "outputs": [],
   "source": [
    "#A box plot of features\n",
    "fig1, axs = plt.subplots(2, 2)\n",
    "fn = [\"sepal_length\", \"sepal_width\", \"petal_length\", \"petal_width\"]\n",
    "cn = ['setosa', 'versicolor', 'virginica']\n",
    "sns.boxplot(x = 'class', y = 'sepal_length', data = train, order = cn, ax = axs[0,0]);\n",
    "sns.boxplot(x = 'class', y = 'sepal_width', data = train, order = cn, ax = axs[0,1]);\n",
    "sns.boxplot(x = 'class', y = 'petal_length', data = train, order = cn, ax = axs[1,0]);\n",
    "sns.boxplot(x = 'class', y = 'petal_width', data = train,  order = cn, ax = axs[1,1]);\n",
    "# add some spacing between subplots\n",
    "fig1.tight_layout(pad=1.0);"
   ]
  }
 ],
 "metadata": {
  "kernelspec": {
   "display_name": "Python 3 (ipykernel)",
   "language": "python",
   "name": "python3"
  },
  "language_info": {
   "codemirror_mode": {
    "name": "ipython",
    "version": 3
   },
   "file_extension": ".py",
   "mimetype": "text/x-python",
   "name": "python",
   "nbconvert_exporter": "python",
   "pygments_lexer": "ipython3",
   "version": "3.9.12"
  }
 },
 "nbformat": 4,
 "nbformat_minor": 5
}
